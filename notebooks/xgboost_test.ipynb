{
 "cells": [
  {
   "cell_type": "code",
   "execution_count": 1,
   "id": "b8190549-ed48-40e6-b9fc-ea286236701e",
   "metadata": {},
   "outputs": [
    {
     "name": "stdout",
     "output_type": "stream",
     "text": [
      "Test edilecek model dosyası: ../models/xgb_AAPL_subset-Tum_Ozellikler_k5_w3.joblib\n",
      "Kullanılacak veri dosyası: ../data/AAPL.csv\n"
     ]
    }
   ],
   "source": [
    "import pandas as pd\n",
    "import numpy as np\n",
    "import os\n",
    "import joblib\n",
    "import seaborn as sns\n",
    "import matplotlib.pyplot as plt\n",
    "\n",
    "from sklearn.preprocessing import StandardScaler\n",
    "from sklearn.feature_selection import SelectKBest, f_classif\n",
    "from sklearn.metrics import accuracy_score, confusion_matrix, classification_report\n",
    "\n",
    "DATA_DIR = '../data'\n",
    "MODEL_DIR = '../models'\n",
    "\n",
    "STOCK_TICKER_TO_TEST = 'AAPL'\n",
    "SUBSET_TO_TEST = 'Tum_Ozellikler'\n",
    "K_TO_TEST = 5\n",
    "WINDOW_TO_TEST = 3\n",
    "\n",
    "DATA_FILE_TO_TEST = os.path.join(DATA_DIR, f\"{STOCK_TICKER_TO_TEST}.csv\")\n",
    "\n",
    "MODEL_FILE_TO_TEST = os.path.join(MODEL_DIR, f\"xgb_{STOCK_TICKER_TO_TEST}_subset-{SUBSET_TO_TEST}_k{K_TO_TEST}_w{WINDOW_TO_TEST}.joblib\")\n",
    "\n",
    "print(f\"Test edilecek model dosyası: {MODEL_FILE_TO_TEST}\")\n",
    "print(f\"Kullanılacak veri dosyası: {DATA_FILE_TO_TEST}\")"
   ]
  },
  {
   "cell_type": "code",
   "execution_count": 2,
   "id": "937782e8-19c7-4874-970b-949b1b01314c",
   "metadata": {},
   "outputs": [],
   "source": [
    "def load_and_clean_data(file_path):\n",
    "    try:\n",
    "        df = pd.read_csv(file_path)\n",
    "        stock_ticker = os.path.basename(file_path).split('.')[0]\n",
    "        required_cols = ['Date', 'Open', 'High', 'Low', 'Close', 'Volume']\n",
    "        if not all(col in df.columns for col in required_cols): return None, None\n",
    "        df['Date'] = pd.to_datetime(df['Date'])\n",
    "        df.set_index('Date', inplace=True)\n",
    "        df.dropna(how='any', inplace=True)\n",
    "        df = df[(df[['Open', 'High', 'Low', 'Close', 'Volume']] > 0).all(axis=1)]\n",
    "        return df, stock_ticker\n",
    "    except Exception: return None, None\n",
    "\n",
    "def feature_engineering(df):\n",
    "    df['EMA_10'] = df['Close'].ewm(span=10, adjust=False).mean()\n",
    "    df['EMA_20'] = df['Close'].ewm(span=20, adjust=False).mean()\n",
    "    df['EMA_50'] = df['Close'].ewm(span=50, adjust=False).mean()\n",
    "    delta = df['Close'].diff(1); gain = delta.where(delta > 0, 0); loss = -delta.where(delta < 0, 0)\n",
    "    avg_gain = gain.rolling(window=14).mean(); avg_loss = loss.rolling(window=14).mean()\n",
    "    df['RSI'] = 100 - (100 / (1 + (avg_gain / avg_loss)))\n",
    "    high_low = df['High'] - df['Low']; high_close = np.abs(df['High'] - df['Close'].shift())\n",
    "    low_close = np.abs(df['Low'] - df['Close'].shift())\n",
    "    ranges = pd.concat([high_low, high_close, low_close], axis=1)\n",
    "    df['ATR'] = np.max(ranges, axis=1).rolling(window=14).mean()\n",
    "    df['Target'] = (df['Close'] > df['Open']).astype(int)\n",
    "    df['Target'] = df['Target'].shift(-1)\n",
    "    df.dropna(inplace=True)\n",
    "    df['Target'] = df['Target'].astype(int)\n",
    "    return df\n",
    "\n",
    "def create_windowed_dataset(X, y, window_size=5):\n",
    "    X_windowed, y_windowed = [], []\n",
    "    for i in range(window_size, len(X)):\n",
    "        features = X.iloc[i-window_size:i].values.flatten()\n",
    "        X_windowed.append(features)\n",
    "        y_windowed.append(y.iloc[i])\n",
    "    return np.array(X_windowed), np.array(y_windowed)"
   ]
  },
  {
   "cell_type": "code",
   "execution_count": 3,
   "id": "1f591250-53d4-4fc5-a977-f204a3d8a5f7",
   "metadata": {},
   "outputs": [
    {
     "name": "stdout",
     "output_type": "stream",
     "text": [
      "AAPL için veri başarıyla yüklendi ve işlendi.\n",
      "\n",
      "Model başarıyla yüklendi:\n",
      "XGBClassifier(base_score=None, booster=None, callbacks=None,\n",
      "              colsample_bylevel=None, colsample_bynode=None,\n",
      "              colsample_bytree=None, device=None, early_stopping_rounds=None,\n",
      "              enable_categorical=False, eval_metric='logloss',\n",
      "              feature_types=None, feature_weights=None, gamma=None,\n",
      "              grow_policy=None, importance_type=None,\n",
      "              interaction_constraints=None, learning_rate=None, max_bin=None,\n",
      "              max_cat_threshold=None, max_cat_to_onehot=None,\n",
      "              max_delta_step=None, max_depth=None, max_leaves=None,\n",
      "              min_child_weight=None, missing=nan, monotone_constraints=None,\n",
      "              multi_strategy=None, n_estimators=None, n_jobs=None,\n",
      "              num_parallel_tree=None, ...)\n"
     ]
    }
   ],
   "source": [
    "df_full, stock_ticker = load_and_clean_data(DATA_FILE_TO_TEST)\n",
    "if df_full is None:\n",
    "    print(\"Veri yüklenemedi, işlem durduruldu.\")\n",
    "else:\n",
    "    df_featured = feature_engineering(df_full)\n",
    "    print(f\"{stock_ticker} için veri başarıyla yüklendi ve işlendi.\")\n",
    "\n",
    "try:\n",
    "    model = joblib.load(MODEL_FILE_TO_TEST)\n",
    "    print(\"\\nModel başarıyla yüklendi:\")\n",
    "    print(model)\n",
    "except FileNotFoundError:\n",
    "    print(f\"\\nHATA: Model dosyası bulunamadı! Lütfen yolu kontrol edin: {MODEL_FILE_TO_TEST}\")\n",
    "    model = None"
   ]
  },
  {
   "cell_type": "code",
   "execution_count": 4,
   "id": "aa5f55b0-e4e7-43b0-b192-d87ab338addc",
   "metadata": {},
   "outputs": [
    {
     "name": "stdout",
     "output_type": "stream",
     "text": [
      "Test verisi başarıyla hazırlandı.\n",
      "Test edilecek örnek sayısı: 1979\n"
     ]
    }
   ],
   "source": [
    "if model and df_featured is not None:\n",
    "    X_full = df_featured.drop('Target', axis=1)\n",
    "    y_full = df_featured['Target']\n",
    "    \n",
    "    feature_subsets = {\n",
    "        'Tum_Ozellikler': X_full.columns.tolist(),\n",
    "        'Sadece_Teknik_Indikatorler': ['EMA_10', 'EMA_20', 'EMA_50', 'RSI', 'ATR'],\n",
    "        'Sadece_EMA_Trend': ['EMA_10', 'EMA_20', 'EMA_50'],\n",
    "        'Momentum_ve_Volatilite': ['RSI', 'ATR'],\n",
    "    }\n",
    "    subset_columns = feature_subsets.get(SUBSET_TO_TEST)\n",
    "    X_subset = X_full[subset_columns]\n",
    "    \n",
    "    selector = SelectKBest(f_classif, k=K_TO_TEST).fit(X_subset, y_full)\n",
    "    X_selected = X_subset[X_subset.columns[selector.get_support()]]\n",
    "    X_windowed, y_windowed = create_windowed_dataset(X_selected, y_full, window_size=WINDOW_TO_TEST)\n",
    "\n",
    "    split_ratio = 0.8\n",
    "    split_index = int(len(X_windowed) * split_ratio)\n",
    "    X_train_w, X_test_w = X_windowed[:split_index], X_windowed[split_index:]\n",
    "    y_train_w, y_test_w = y_windowed[:split_index], y_windowed[split_index:]\n",
    "\n",
    "    scaler = StandardScaler().fit(X_train_w)\n",
    "    X_test_scaled = scaler.transform(X_test_w)\n",
    "\n",
    "    print(\"Test verisi başarıyla hazırlandı.\")\n",
    "    print(f\"Test edilecek örnek sayısı: {X_test_scaled.shape[0]}\")"
   ]
  },
  {
   "cell_type": "code",
   "execution_count": 5,
   "id": "13d60437-1c8f-4705-99d0-2adbff8c9167",
   "metadata": {},
   "outputs": [
    {
     "name": "stdout",
     "output_type": "stream",
     "text": [
      "DEBUG\n",
      "loaded: XGBClassifier(base_score=None, booster=None, callbacks=None,\n",
      "              colsample_bylevel=None, colsample_bynode=None,\n",
      "              colsample_bytree=None, device=None, early_stopping_rounds=None,\n",
      "              enable_categorical=False, eval_metric='logloss',\n",
      "              feature_types=None, feature_weights=None, gamma=None,\n",
      "              grow_policy=None, importance_type=None,\n",
      "              interaction_constraints=None, learning_rate=None, max_bin=None,\n",
      "              max_cat_threshold=None, max_cat_to_onehot=None,\n",
      "              max_delta_step=None, max_depth=None, max_leaves=None,\n",
      "              min_child_weight=None, missing=nan, monotone_constraints=None,\n",
      "              multi_strategy=None, n_estimators=None, n_jobs=None,\n",
      "              num_parallel_tree=None, ...)\n",
      "expected: 15\n",
      "--------------------------------------------------\n",
      "Test data : X_test_scaled\n",
      "Test data shape: (1979, 15)\n",
      "Test data feature: 15\n"
     ]
    }
   ],
   "source": [
    "print(\"DEBUG\")\n",
    "\n",
    "\n",
    "if 'model' in locals() and model is not None:\n",
    "    print(f\"loaded: {model}\")\n",
    "    print(f\"expected: {model.n_features_in_}\")\n",
    "else:\n",
    "    print(\"err\")\n",
    "\n",
    "print(\"-\" * 50)\n",
    "\n",
    "if 'X_test_scaled' in locals():\n",
    "    print(f\"Test data : X_test_scaled\")\n",
    "    print(f\"Test data shape: {X_test_scaled.shape}\")\n",
    "    print(f\"Test data feature: {X_test_scaled.shape[1]}\")\n",
    "else:\n",
    "    print(\"err\")\n"
   ]
  },
  {
   "cell_type": "code",
   "execution_count": 6,
   "id": "c28af4c3-3634-4cd5-a369-72cca08f29c6",
   "metadata": {},
   "outputs": [
    {
     "name": "stdout",
     "output_type": "stream",
     "text": [
      "--- MODEL DEĞERLENDİRME SONUÇLARI ---\n",
      "\n",
      "Modelin Test Verisi Üzerindeki Doğruluğu: 0.4795\n",
      "\n",
      "Sınıflandırma Raporu:\n",
      "              precision    recall  f1-score   support\n",
      "\n",
      "   Düşüş (0)       0.48      0.88      0.62       952\n",
      "Yükseliş (1)       0.49      0.10      0.17      1027\n",
      "\n",
      "    accuracy                           0.48      1979\n",
      "   macro avg       0.49      0.49      0.40      1979\n",
      "weighted avg       0.49      0.48      0.39      1979\n",
      "\n",
      "Karmaşıklık Matrisi:\n"
     ]
    },
    {
     "data": {
      "image/png": "[encoded data removed]",
      "text/plain": [
       "<Figure size 800x600 with 2 Axes>"
      ]
     },
     "metadata": {},
     "output_type": "display_data"
    }
   ],
   "source": [
    "if model and 'X_test_scaled' in locals():\n",
    "    y_pred = model.predict(X_test_scaled)\n",
    "    \n",
    "    accuracy = accuracy_score(y_test_w, y_pred)\n",
    "    print(f\"--- MODEL DEĞERLENDİRME SONUÇLARI ---\\n\")\n",
    "    print(f\"Modelin Test Verisi Üzerindeki Doğruluğu: {accuracy:.4f}\\n\")\n",
    "    \n",
    "    print(\"Sınıflandırma Raporu:\")\n",
    "    print(classification_report(y_test_w, y_pred, target_names=['Düşüş (0)', 'Yükseliş (1)']))\n",
    "    \n",
    "    print(\"Karmaşıklık Matrisi:\")\n",
    "    cm = confusion_matrix(y_test_w, y_pred)\n",
    "    \n",
    "    plt.figure(figsize=(8, 6))\n",
    "    sns.heatmap(cm, annot=True, fmt='d', cmap='Blues', \n",
    "                xticklabels=['Tahmin Düşüş', 'Tahmin Yükseliş'],\n",
    "                yticklabels=['Gerçek Düşüş', 'Gerçek Yükseliş'])\n",
    "    plt.title('Karmaşıklık Matrisi')\n",
    "    plt.ylabel('Gerçek Değerler')\n",
    "    plt.xlabel('Tahmin Edilen Değerler')\n",
    "    plt.show()"
   ]
  }
 ],
 "metadata": {
  "kernelspec": {
   "display_name": "Python 3 (ipykernel)",
   "language": "python",
   "name": "python3"
  },
  "language_info": {
   "codemirror_mode": {
    "name": "ipython",
    "version": 3
   },
   "file_extension": ".py",
   "mimetype": "text/x-python",
   "name": "python",
   "nbconvert_exporter": "python",
   "pygments_lexer": "ipython3",
   "version": "3.10.18"
  }
 },
 "nbformat": 4,
 "nbformat_minor": 5
}
